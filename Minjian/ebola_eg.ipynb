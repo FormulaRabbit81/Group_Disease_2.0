{
 "cells": [
  {
   "cell_type": "code",
   "execution_count": 1,
   "metadata": {},
   "outputs": [
    {
     "name": "stderr",
     "output_type": "stream",
     "text": [
      "<frozen importlib._bootstrap>:219: RuntimeWarning: scipy._lib.messagestream.MessageStream size changed, may indicate binary incompatibility. Expected 56 from C header, got 64 from PyObject\n"
     ]
    }
   ],
   "source": [
    "# import statements\n",
    "from Tools.toolbox import *\n",
    "from Tools.functions import *\n",
    "import csv\n",
    "from scipy.stats import ks_2samp\n",
    "import pandas as pd"
   ]
  },
  {
   "cell_type": "code",
   "execution_count": 2,
   "metadata": {},
   "outputs": [],
   "source": [
    "dates_ebola = []\n",
    "countries_ebola = []\n",
    "with open('data/ebola_sorted.csv', 'r') as file:\n",
    "    reader = csv.reader(file)\n",
    "    next(reader)  # Skip the header row\n",
    "    for row in reader:\n",
    "        countries_ebola.append(row[0])\n",
    "        dates_ebola.append(row[4])\n",
    "\n",
    "data = {\n",
    "    'Country': countries_ebola,\n",
    "    'Date Onset Inferred': dates_ebola\n",
    "}\n",
    "\n",
    "df = pd.DataFrame(data)\n",
    "df = df[df['Date Onset Inferred'] != 'NA']\n",
    "countries = df.groupby('Country')\n",
    "df_guinea = countries.get_group('Guinea')\n",
    "dates_guinea = [date for date in df_guinea['Date Onset Inferred']]\n",
    "df_liberia = countries.get_group('Liberia')\n",
    "dates_liberia = [date for date in df_liberia['Date Onset Inferred']]\n",
    "df_sierra = countries.get_group('Sierra Leone')\n",
    "dates_sierra = [date for date in df_sierra['Date Onset Inferred']]\n",
    "def sort_dates(dates):\n",
    "    def date_key(date_string):\n",
    "        return datetime.strptime(date_string, '%d/%m/%Y')\n",
    "    return sorted(dates, key=date_key)\n",
    "dates_all = sort_dates(df['Date Onset Inferred'])"
   ]
  },
  {
   "cell_type": "code",
   "execution_count": 3,
   "metadata": {},
   "outputs": [],
   "source": [
    "date_nums_guinea = [convert_date_to_numberB(date, dates_guinea[0]) for date in dates_guinea]\n",
    "date_nums_liberia = [convert_date_to_numberB(date, dates_liberia[0]) for date in dates_liberia]\n",
    "date_nums_sierra = [convert_date_to_numberB(date, dates_sierra[0]) for date in dates_sierra]\n",
    "date_nums_all = [convert_date_to_numberB(date, dates_all[0]) for date in dates_all]"
   ]
  },
  {
   "cell_type": "code",
   "execution_count": 4,
   "metadata": {},
   "outputs": [],
   "source": [
    "observed_guinea = distribute(date_nums_guinea)\n",
    "observed_liberia = distribute(date_nums_liberia)\n",
    "observed_sierra = distribute(date_nums_sierra)\n",
    "observed_all = distribute(date_nums_all)"
   ]
  },
  {
   "cell_type": "code",
   "execution_count": 5,
   "metadata": {},
   "outputs": [
    {
     "data": {
      "image/png": "[encoded data removed]",
      "text/plain": [
       "<Figure size 640x480 with 1 Axes>"
      ]
     },
     "metadata": {},
     "output_type": "display_data"
    }
   ],
   "source": [
    "time50 = np.linspace(0,50,10000)\n",
    "kernel_intensity = [ExpKernel(1, 1)(t) for t in time50]\n",
    "plt.plot(time50, kernel_intensity)\n",
    "plt.xlabel(\"Time (days)\")\n",
    "plt.ylabel(\"Intensity\")\n",
    "plt.title(\"Exponential kernel\")\n",
    "plt.show()"
   ]
  },
  {
   "cell_type": "code",
   "execution_count": 6,
   "metadata": {},
   "outputs": [
    {
     "ename": "KeyboardInterrupt",
     "evalue": "",
     "output_type": "error",
     "traceback": [
      "\u001b[0;31m---------------------------------------------------------------------------\u001b[0m",
      "\u001b[0;31mKeyboardInterrupt\u001b[0m                         Traceback (most recent call last)",
      "Cell \u001b[0;32mIn[6], line 5\u001b[0m\n\u001b[1;32m      3\u001b[0m bnds \u001b[39m=\u001b[39m ((\u001b[39m0.01\u001b[39m, \u001b[39m1\u001b[39m), (\u001b[39m0.01\u001b[39m, \u001b[39m1\u001b[39m), (\u001b[39m0.01\u001b[39m, \u001b[39m10\u001b[39m))\n\u001b[1;32m      4\u001b[0m intensity \u001b[39m=\u001b[39m \u001b[39mlambda\u001b[39;00m t, paras: intensity_constructor(t, paras, event_times, ExpKernel, ConstBase, depth\u001b[39m=\u001b[39m\u001b[39m7\u001b[39m)\n\u001b[0;32m----> 5\u001b[0m result \u001b[39m=\u001b[39m MLE_de(intensity, event_times, model\u001b[39m=\u001b[39;49m\u001b[39m\"\u001b[39;49m\u001b[39mconstexp\u001b[39;49m\u001b[39m\"\u001b[39;49m, bounds\u001b[39m=\u001b[39;49mbnds, maxiter\u001b[39m=\u001b[39;49m\u001b[39m100\u001b[39;49m)\n\u001b[1;32m      6\u001b[0m optimized_params \u001b[39m=\u001b[39m result\u001b[39m.\u001b[39mx\n\u001b[1;32m      7\u001b[0m \u001b[39mprint\u001b[39m(optimized_params)\n",
      "File \u001b[0;32m~/Desktop/IC/500/M2R/Group_Disease/Minjian/Tools/toolbox.py:300\u001b[0m, in \u001b[0;36mMLE_de\u001b[0;34m(intensity_func, event_times, model, **kwargs)\u001b[0m\n\u001b[1;32m    286\u001b[0m \u001b[39mdef\u001b[39;00m \u001b[39mMLE_de\u001b[39m(intensity_func, event_times, model\u001b[39m=\u001b[39m\u001b[39mNone\u001b[39;00m, \u001b[39m*\u001b[39m\u001b[39m*\u001b[39mkwargs):\n\u001b[1;32m    287\u001b[0m     \u001b[39m\"\"\"Minimize the negative log-likelihood function.\u001b[39;00m\n\u001b[1;32m    288\u001b[0m \n\u001b[1;32m    289\u001b[0m \u001b[39m    Args:\u001b[39;00m\n\u001b[0;32m   (...)\u001b[0m\n\u001b[1;32m    297\u001b[0m \n\u001b[1;32m    298\u001b[0m \u001b[39m    \"\"\"\u001b[39;00m\n\u001b[0;32m--> 300\u001b[0m     result \u001b[39m=\u001b[39m opt\u001b[39m.\u001b[39;49mdifferential_evolution(\u001b[39mlambda\u001b[39;49;00m x: _llh_neg(x, intensity_func, event_times, model\u001b[39m=\u001b[39;49mmodel), \u001b[39m*\u001b[39;49m\u001b[39m*\u001b[39;49mkwargs)\n\u001b[1;32m    301\u001b[0m     \u001b[39mreturn\u001b[39;00m result\n",
      "File \u001b[0;32m~/opt/anaconda3/lib/python3.8/site-packages/scipy/optimize/_differentialevolution.py:397\u001b[0m, in \u001b[0;36mdifferential_evolution\u001b[0;34m(func, bounds, args, strategy, maxiter, popsize, tol, mutation, recombination, seed, callback, disp, polish, init, atol, updating, workers, constraints, x0, integrality, vectorized)\u001b[0m\n\u001b[1;32m    380\u001b[0m \u001b[39m# using a context manager means that any created Pool objects are\u001b[39;00m\n\u001b[1;32m    381\u001b[0m \u001b[39m# cleared up.\u001b[39;00m\n\u001b[1;32m    382\u001b[0m \u001b[39mwith\u001b[39;00m DifferentialEvolutionSolver(func, bounds, args\u001b[39m=\u001b[39margs,\n\u001b[1;32m    383\u001b[0m                                  strategy\u001b[39m=\u001b[39mstrategy,\n\u001b[1;32m    384\u001b[0m                                  maxiter\u001b[39m=\u001b[39mmaxiter,\n\u001b[0;32m   (...)\u001b[0m\n\u001b[1;32m    395\u001b[0m                                  integrality\u001b[39m=\u001b[39mintegrality,\n\u001b[1;32m    396\u001b[0m                                  vectorized\u001b[39m=\u001b[39mvectorized) \u001b[39mas\u001b[39;00m solver:\n\u001b[0;32m--> 397\u001b[0m     ret \u001b[39m=\u001b[39m solver\u001b[39m.\u001b[39;49msolve()\n\u001b[1;32m    399\u001b[0m \u001b[39mreturn\u001b[39;00m ret\n",
      "File \u001b[0;32m~/opt/anaconda3/lib/python3.8/site-packages/scipy/optimize/_differentialevolution.py:998\u001b[0m, in \u001b[0;36mDifferentialEvolutionSolver.solve\u001b[0;34m(self)\u001b[0m\n\u001b[1;32m    995\u001b[0m \u001b[39mfor\u001b[39;00m nit \u001b[39min\u001b[39;00m \u001b[39mrange\u001b[39m(\u001b[39m1\u001b[39m, \u001b[39mself\u001b[39m\u001b[39m.\u001b[39mmaxiter \u001b[39m+\u001b[39m \u001b[39m1\u001b[39m):\n\u001b[1;32m    996\u001b[0m     \u001b[39m# evolve the population by a generation\u001b[39;00m\n\u001b[1;32m    997\u001b[0m     \u001b[39mtry\u001b[39;00m:\n\u001b[0;32m--> 998\u001b[0m         \u001b[39mnext\u001b[39;49m(\u001b[39mself\u001b[39;49m)\n\u001b[1;32m    999\u001b[0m     \u001b[39mexcept\u001b[39;00m \u001b[39mStopIteration\u001b[39;00m:\n\u001b[1;32m   1000\u001b[0m         warning_flag \u001b[39m=\u001b[39m \u001b[39mTrue\u001b[39;00m\n",
      "File \u001b[0;32m~/opt/anaconda3/lib/python3.8/site-packages/scipy/optimize/_differentialevolution.py:1385\u001b[0m, in \u001b[0;36mDifferentialEvolutionSolver.__next__\u001b[0;34m(self)\u001b[0m\n\u001b[1;32m   1383\u001b[0m     feasible \u001b[39m=\u001b[39m \u001b[39mTrue\u001b[39;00m\n\u001b[1;32m   1384\u001b[0m     cv \u001b[39m=\u001b[39m np\u001b[39m.\u001b[39matleast_2d([\u001b[39m0.\u001b[39m])\n\u001b[0;32m-> 1385\u001b[0m     energy \u001b[39m=\u001b[39m \u001b[39mself\u001b[39;49m\u001b[39m.\u001b[39;49mfunc(parameters)\n\u001b[1;32m   1386\u001b[0m     \u001b[39mself\u001b[39m\u001b[39m.\u001b[39m_nfev \u001b[39m+\u001b[39m\u001b[39m=\u001b[39m \u001b[39m1\u001b[39m\n\u001b[1;32m   1388\u001b[0m \u001b[39m# compare trial and population member\u001b[39;00m\n",
      "File \u001b[0;32m~/opt/anaconda3/lib/python3.8/site-packages/scipy/_lib/_util.py:372\u001b[0m, in \u001b[0;36m_FunctionWrapper.__call__\u001b[0;34m(self, x)\u001b[0m\n\u001b[1;32m    371\u001b[0m \u001b[39mdef\u001b[39;00m \u001b[39m__call__\u001b[39m(\u001b[39mself\u001b[39m, x):\n\u001b[0;32m--> 372\u001b[0m     \u001b[39mreturn\u001b[39;00m \u001b[39mself\u001b[39;49m\u001b[39m.\u001b[39;49mf(x, \u001b[39m*\u001b[39;49m\u001b[39mself\u001b[39;49m\u001b[39m.\u001b[39;49margs)\n",
      "File \u001b[0;32m~/Desktop/IC/500/M2R/Group_Disease/Minjian/Tools/toolbox.py:300\u001b[0m, in \u001b[0;36mMLE_de.<locals>.<lambda>\u001b[0;34m(x)\u001b[0m\n\u001b[1;32m    286\u001b[0m \u001b[39mdef\u001b[39;00m \u001b[39mMLE_de\u001b[39m(intensity_func, event_times, model\u001b[39m=\u001b[39m\u001b[39mNone\u001b[39;00m, \u001b[39m*\u001b[39m\u001b[39m*\u001b[39mkwargs):\n\u001b[1;32m    287\u001b[0m     \u001b[39m\"\"\"Minimize the negative log-likelihood function.\u001b[39;00m\n\u001b[1;32m    288\u001b[0m \n\u001b[1;32m    289\u001b[0m \u001b[39m    Args:\u001b[39;00m\n\u001b[0;32m   (...)\u001b[0m\n\u001b[1;32m    297\u001b[0m \n\u001b[1;32m    298\u001b[0m \u001b[39m    \"\"\"\u001b[39;00m\n\u001b[0;32m--> 300\u001b[0m     result \u001b[39m=\u001b[39m opt\u001b[39m.\u001b[39mdifferential_evolution(\u001b[39mlambda\u001b[39;00m x: _llh_neg(x, intensity_func, event_times, model\u001b[39m=\u001b[39;49mmodel), \u001b[39m*\u001b[39m\u001b[39m*\u001b[39mkwargs)\n\u001b[1;32m    301\u001b[0m     \u001b[39mreturn\u001b[39;00m result\n",
      "File \u001b[0;32m~/Desktop/IC/500/M2R/Group_Disease/Minjian/Tools/toolbox.py:266\u001b[0m, in \u001b[0;36m_llh_neg\u001b[0;34m(paras, intensity_func, event_times, model)\u001b[0m\n\u001b[1;32m    253\u001b[0m \u001b[39mdef\u001b[39;00m \u001b[39m_llh_neg\u001b[39m(paras, intensity_func, event_times, model\u001b[39m=\u001b[39m\u001b[39mNone\u001b[39;00m):\n\u001b[1;32m    254\u001b[0m     \u001b[39m\"\"\"Calculate the negative log-likelihood function so that minimize maximizes the llh.\u001b[39;00m\n\u001b[1;32m    255\u001b[0m \n\u001b[1;32m    256\u001b[0m \u001b[39m    Args:\u001b[39;00m\n\u001b[0;32m   (...)\u001b[0m\n\u001b[1;32m    264\u001b[0m \n\u001b[1;32m    265\u001b[0m \u001b[39m    \"\"\"\u001b[39;00m\n\u001b[0;32m--> 266\u001b[0m     \u001b[39mreturn\u001b[39;00m _integral_term(paras, intensity_func, event_times, model\u001b[39m=\u001b[39mmodel) \u001b[39m-\u001b[39m _log_term(paras, intensity_func, event_times, model\u001b[39m=\u001b[39;49mmodel)\n",
      "File \u001b[0;32m~/Desktop/IC/500/M2R/Group_Disease/Minjian/Tools/toolbox.py:225\u001b[0m, in \u001b[0;36m_log_term\u001b[0;34m(paras, intensity_func, event_times, model, depth)\u001b[0m\n\u001b[1;32m    223\u001b[0m \u001b[39melse\u001b[39;00m:\n\u001b[1;32m    224\u001b[0m     \u001b[39mfor\u001b[39;00m ind \u001b[39min\u001b[39;00m \u001b[39mrange\u001b[39m(\u001b[39m1\u001b[39m, n, \u001b[39m1\u001b[39m):\n\u001b[0;32m--> 225\u001b[0m         res \u001b[39m+\u001b[39m\u001b[39m=\u001b[39m np\u001b[39m.\u001b[39;49mlog(mu \u001b[39m+\u001b[39;49m exp)\n\u001b[1;32m    226\u001b[0m         exp \u001b[39m=\u001b[39m np\u001b[39m.\u001b[39mexp(\u001b[39m-\u001b[39mdelta\u001b[39m*\u001b[39m(t[ind]\u001b[39m-\u001b[39mt[ind\u001b[39m-\u001b[39m\u001b[39m1\u001b[39m])) \u001b[39m*\u001b[39m (exp \u001b[39m+\u001b[39m alpha)\n\u001b[1;32m    227\u001b[0m     \u001b[39mreturn\u001b[39;00m res \n",
      "\u001b[0;31mKeyboardInterrupt\u001b[0m: "
     ]
    }
   ],
   "source": [
    "event_times = observed_sierra\n",
    "paras = [0.5, 0.5, 3]\n",
    "bnds = ((0.01, 1), (0.01, 1), (0.01, 10))\n",
    "intensity = lambda t, paras: intensity_constructor(t, paras, event_times, ExpKernel, ConstBase, depth=7)\n",
    "result = MLE_de(intensity, event_times, model=\"constexp\", bounds=bnds, maxiter=100)\n",
    "optimized_params = result.x\n",
    "print(optimized_params)"
   ]
  },
  {
   "cell_type": "code",
   "execution_count": null,
   "metadata": {},
   "outputs": [],
   "source": [
    "paras = [0.72320704, 0.72559652, 0.11672481]\n",
    "intensity = lambda t, event_times: intensity_constructor(t, paras, event_times, ExpKernel, ConstBase, depth=7)\n",
    "samples2 = []\n",
    "for _ in range(10):\n",
    "    samples2.append(simulate_cluster_structure(ExpKernel(*paras[:2]), ConstBase(paras[-1]), 600))"
   ]
  },
  {
   "cell_type": "code",
   "execution_count": null,
   "metadata": {},
   "outputs": [],
   "source": [
    "for sample in samples2:\n",
    "    plt.plot(sample, range(len(sample)), color=\"k\", alpha=0.15)\n",
    "plt.plot(event_times, range(len(event_times)), color='r')\n",
    "plt.show()"
   ]
  },
  {
   "cell_type": "code",
   "execution_count": 7,
   "metadata": {},
   "outputs": [
    {
     "data": {
      "image/png": "[encoded data removed]",
      "text/plain": [
       "<Figure size 640x480 with 1 Axes>"
      ]
     },
     "metadata": {},
     "output_type": "display_data"
    }
   ],
   "source": [
    "paras = [0.72320704, 0.72559652, 0.11672481]\n",
    "n = binary_search(event_times, 300)\n",
    "intensity = lambda t, event_times: intensity_constructor(t, paras, event_times, ExpKernel, ConstBase, depth=10)\n",
    "prediction(intensity, event_times[:n], 300, p=0.4, n=1)"
   ]
  },
  {
   "cell_type": "code",
   "execution_count": null,
   "metadata": {},
   "outputs": [],
   "source": [
    "for sample in samples2:\n",
    "    plt.plot(sample, range(len(sample)), color=\"k\", alpha=1)\n",
    "plt.plot(event_times, range(len(event_times)), color='r')\n",
    "plt.show()"
   ]
  },
  {
   "cell_type": "code",
   "execution_count": null,
   "metadata": {},
   "outputs": [],
   "source": [
    "paras = [0.5, 0.5, 1, 300000]\n",
    "n = binary_search(event_times, 600)\n",
    "intensity_SIR = lambda t, event_times: intensity_constructor(t, paras, event_times, ExpKernel, ConstBase, SIR=True, depth=100)\n",
    "\n",
    "samples = []\n",
    "for _ in range(1):\n",
    "    samples.append(simulate_hawkes_process(intensity_SIR, [], 300))"
   ]
  },
  {
   "cell_type": "code",
   "execution_count": null,
   "metadata": {},
   "outputs": [],
   "source": [
    "for sample in samples:\n",
    "    plt.plot(sample, range(len(sample)), color=\"k\", alpha=0.15)\n",
    "plt.plot(event_times, range(len(event_times)), color='r')\n",
    "plt.show()"
   ]
  },
  {
   "cell_type": "code",
   "execution_count": null,
   "metadata": {},
   "outputs": [],
   "source": [
    "def grad_hess(paras):\n",
    "    a, d, c = paras\n",
    "    t = event_times.copy()\n",
    "    n = len(t)\n",
    "    \n",
    "    def ABC(i):\n",
    "        A_val = 0\n",
    "        B_val = 0\n",
    "        C_val = 0\n",
    "        for j in range(i - 1, -1, -1):\n",
    "            if t[i] - t[j] >= 100:\n",
    "                return A_val, B_val, C_val\n",
    "            else:\n",
    "                tij = (t[i]-t[j])\n",
    "                exptij = np.exp(-d*tij)\n",
    "                A_val += exptij\n",
    "                B_val += tij * exptij\n",
    "                C_val += tij**2 * exptij\n",
    "        return A_val, B_val, C_val\n",
    "    \n",
    "    pda_val = 0\n",
    "    pdd_val = 0\n",
    "    pdc_val = -t[-1]\n",
    "    \n",
    "    pdaa_val = 0\n",
    "    pdad_val = 0\n",
    "    pddd_val = 0\n",
    "    pdac_val = 0\n",
    "    pddc_val = 0\n",
    "    pdcc_val = 0\n",
    "        \n",
    "    for i in range(n - 1, -1, -1):\n",
    "        if t[-1] - t[i] >= 100:\n",
    "            return (np.array([pda_val, pdd_val, pdc_val]), np.array([[pdaa_val, pdad_val, pdac_val],\n",
    "                                                            [pdad_val, pddd_val, pddc_val],\n",
    "                                                            [pdac_val, pddc_val, pdcc_val]]))\n",
    "        else:\n",
    "            Ai, Bi, Ci = ABC(i)\n",
    "            tni = t[-1] - t[i]\n",
    "            exptni = np.exp(-d * tni)\n",
    "            denom = 1 / (c + a * Ai)\n",
    "            d2 = d**2\n",
    "            \n",
    "            pda_val += (exptni / d + Ai * denom)\n",
    "            pdd_val += ((-a) * tni * exptni * (1 + d) / d2 - a * Bi * denom)\n",
    "            pdc_val += denom\n",
    "            \n",
    "            pdaa_val -= (Ai * denom)**2\n",
    "            pdad_val -= (tni * exptni / d + (exptni - 1) / d2)\n",
    "            pdac_val -= Ai * denom**2\n",
    "            pddd_val += (a * tni ** 2 * exptni / d + 2 * tni * exptni / d2 + 2 * (exptni - 1) * d**(-3) + Ci * denom - a * Bi**2 / d2) \n",
    "            pddc_val += a * Bi * denom**2\n",
    "            pdcc_val -= denom**2\n",
    "        \n",
    "    return (np.array([pda_val, pdd_val, pdc_val]), np.array([[pdaa_val, pdad_val, pdac_val],\n",
    "                                                            [pdad_val, pddd_val, pddc_val],\n",
    "                                                            [pdac_val, pddc_val, pdcc_val]]))\n",
    "def grad(paras):\n",
    "    return grad_hess(paras)[0]\n",
    "\n",
    "def hess(paras):\n",
    "    return grad_hess(paras)[1]"
   ]
  },
  {
   "cell_type": "code",
   "execution_count": null,
   "metadata": {},
   "outputs": [],
   "source": [
    "def grad_hessC(paras):\n",
    "    a, c = paras\n",
    "    t = event_times.copy()\n",
    "    n = len(t)\n",
    "    \n",
    "    def ABC(i):\n",
    "        A_val = 0\n",
    "        B_val = 0\n",
    "        C_val = 0\n",
    "        for j in range(i - 1, -1, -1):\n",
    "            if t[i] - t[j] >= 300:\n",
    "                return A_val, B_val, C_val\n",
    "            else:\n",
    "                tij = (t[i]-t[j])\n",
    "                exptij = np.exp(-a*tij)\n",
    "                A_val += exptij\n",
    "                B_val += tij * exptij\n",
    "                C_val += tij**2 * exptij\n",
    "        return A_val, B_val, C_val\n",
    "    \n",
    "    pda_val = 0\n",
    "    pdc_val = -t[-1]\n",
    "    \n",
    "    pddd_val = 0\n",
    "    pddc_val = 0\n",
    "    pdcc_val = 0\n",
    "        \n",
    "    for i in range(n - 1, -1, -1):\n",
    "        if t[-1] - t[i] >= 300:\n",
    "            return (np.array([pda_val, pdc_val]), np.array([[pddd_val, pddc_val],\n",
    "                                                            [pddc_val, pdcc_val]]))\n",
    "        else:\n",
    "            Ai, Bi, Ci = ABC(i)\n",
    "            tni = t[-1] - t[i]\n",
    "            exptni = np.exp(-a * tni)\n",
    "            denom = 1 / (c + a * Ai)\n",
    "            \n",
    "            pda_val += (-tni * exptni + (Ai - a * Bi) * denom)\n",
    "            pdc_val += denom\n",
    "            \n",
    "            pddd_val += (tni ** 2 * exptni + (-2 * c * Bi + c * a * Ci - Ai**2 + 2 * a * Ai * Bi - a**2 * Bi**2) * denom**2) \n",
    "            pddc_val += ((a * Bi - Ai) * denom**2)\n",
    "            pdcc_val -= denom**2\n",
    "        \n",
    "    return (np.array([pda_val, pdc_val]), np.array([[pddd_val, pddc_val],\n",
    "                                                    [pddc_val, pdcc_val]]))\n",
    "def gradC(paras):\n",
    "    return grad_hessC(paras)[0]\n",
    "\n",
    "def hessC(paras):\n",
    "    return grad_hessC(paras)[1]"
   ]
  },
  {
   "cell_type": "code",
   "execution_count": null,
   "metadata": {},
   "outputs": [],
   "source": [
    "def gradC(paras):\n",
    "    a, c = paras\n",
    "    t = event_times.copy()\n",
    "    n = len(t)\n",
    "    \n",
    "    def AB(i):\n",
    "        A_val = 0\n",
    "        B_val = 0\n",
    "        for j in range(i - 1, -1, -1):\n",
    "            if t[i] - t[j] >= 600:\n",
    "                return A_val, B_val\n",
    "            else:\n",
    "                tij = (t[i]-t[j])\n",
    "                exptij = np.exp(-a*tij)\n",
    "                A_val += exptij\n",
    "                B_val += tij * exptij\n",
    "        return A_val, B_val\n",
    "    \n",
    "    pda_val = 0\n",
    "    pdc_val = -t[-1]\n",
    "        \n",
    "    for i in range(n - 1, -1, -1):\n",
    "        if t[-1] - t[i] >= 600:\n",
    "            return np.array([pda_val, pdc_val])\n",
    "        else:\n",
    "            Ai, Bi= AB(i)\n",
    "            tni = t[-1] - t[i]\n",
    "            exptni = np.exp(-a * tni)\n",
    "            denom = 1 / (c + a * Ai)\n",
    "            \n",
    "            pda_val += (-tni * exptni + (Ai - a * Bi) * denom)\n",
    "            pdc_val += denom\n",
    "        \n",
    "    return np.array([pda_val, pdc_val])"
   ]
  },
  {
   "cell_type": "code",
   "execution_count": null,
   "metadata": {},
   "outputs": [],
   "source": [
    "print(gradC([0.7, 0.2]))"
   ]
  },
  {
   "cell_type": "code",
   "execution_count": null,
   "metadata": {},
   "outputs": [],
   "source": [
    "print(grad_hessC([0.7, 0.2]))"
   ]
  },
  {
   "cell_type": "code",
   "execution_count": null,
   "metadata": {},
   "outputs": [],
   "source": []
  }
 ],
 "metadata": {
  "kernelspec": {
   "display_name": "base",
   "language": "python",
   "name": "python3"
  },
  "language_info": {
   "codemirror_mode": {
    "name": "ipython",
    "version": 3
   },
   "file_extension": ".py",
   "mimetype": "text/x-python",
   "name": "python",
   "nbconvert_exporter": "python",
   "pygments_lexer": "ipython3",
   "version": "3.8.8"
  },
  "orig_nbformat": 4
 },
 "nbformat": 4,
 "nbformat_minor": 2
}
