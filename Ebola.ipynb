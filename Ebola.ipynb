{
 "cells": [
  {
   "cell_type": "code",
   "execution_count": 1,
   "metadata": {},
   "outputs": [
    {
     "name": "stderr",
     "output_type": "stream",
     "text": [
      "<frozen importlib._bootstrap>:219: RuntimeWarning: scipy._lib.messagestream.MessageStream size changed, may indicate binary incompatibility. Expected 56 from C header, got 64 from PyObject\n"
     ]
    }
   ],
   "source": [
    "# import statements\n",
    "from Tools.toolbox import *\n",
    "from Tools.functions import *\n",
    "import csv\n",
    "import pandas as pd\n",
    "\n",
    "plt.rcParams['font.size'] = 15"
   ]
  },
  {
   "cell_type": "code",
   "execution_count": 2,
   "metadata": {},
   "outputs": [],
   "source": [
    "dates_ebola = []\n",
    "countries_ebola = []\n",
    "with open('data/ebola_sorted.csv', 'r') as file:\n",
    "    reader = csv.reader(file)\n",
    "    next(reader)  # Skip the header row\n",
    "    for row in reader:\n",
    "        countries_ebola.append(row[0])\n",
    "        dates_ebola.append(row[4])\n",
    "\n",
    "data = {\n",
    "    'Country': countries_ebola,\n",
    "    'Date Onset Inferred': dates_ebola\n",
    "}\n",
    "\n",
    "df = pd.DataFrame(data)\n",
    "df = df[df['Date Onset Inferred'] != 'NA']\n",
    "countries = df.groupby('Country')\n",
    "df_guinea = countries.get_group('Guinea')\n",
    "dates_guinea = [date for date in df_guinea['Date Onset Inferred']]\n",
    "df_liberia = countries.get_group('Liberia')\n",
    "dates_liberia = [date for date in df_liberia['Date Onset Inferred']]\n",
    "df_sierra = countries.get_group('Sierra Leone')\n",
    "dates_sierra = [date for date in df_sierra['Date Onset Inferred']]\n",
    "def sort_dates(dates):\n",
    "    def date_key(date_string):\n",
    "        return datetime.strptime(date_string, '%d/%m/%Y')\n",
    "    return sorted(dates, key=date_key)\n",
    "dates_all = sort_dates(df['Date Onset Inferred'])"
   ]
  },
  {
   "cell_type": "code",
   "execution_count": 3,
   "metadata": {},
   "outputs": [],
   "source": [
    "date_nums_guinea = [convert_date_to_numberB(date, dates_guinea[0]) for date in dates_guinea]\n",
    "date_nums_liberia = [convert_date_to_numberB(date, dates_liberia[0]) for date in dates_liberia]\n",
    "date_nums_sierra = [convert_date_to_numberB(date, dates_sierra[0]) for date in dates_sierra]\n",
    "date_nums_all = [convert_date_to_numberB(date, dates_all[0]) for date in dates_all]"
   ]
  },
  {
   "cell_type": "code",
   "execution_count": 4,
   "metadata": {},
   "outputs": [],
   "source": [
    "observed_guinea = distribute(date_nums_guinea)\n",
    "observed_liberia = distribute(date_nums_liberia)\n",
    "observed_sierra = distribute(date_nums_sierra)\n",
    "observed_all = distribute(date_nums_all)"
   ]
  },
  {
   "cell_type": "code",
   "execution_count": 5,
   "metadata": {},
   "outputs": [],
   "source": [
    "event_times = observed_all"
   ]
  },
  {
   "cell_type": "code",
   "execution_count": 6,
   "metadata": {},
   "outputs": [
    {
     "name": "stdout",
     "output_type": "stream",
     "text": [
      "[1.00465181 1.01259637 0.36621172]\n"
     ]
    }
   ],
   "source": [
    "n = binary_search(event_times, 300)\n",
    "initial_paras = [1, 1, 0.1]\n",
    "bnds = ((0.01, 2), (0.01, 2), (1e-5, 1))\n",
    "intensity = lambda t, paras: intensity_constructor(t, paras, event_times, ExpKernel, ConstBase, depth=30)\n",
    "result = MLE_de(intensity, event_times[:n], model=\"constexp\", bounds=bnds, maxiter=100)\n",
    "optimized_params200 = result.x\n",
    "print(optimized_params200)"
   ]
  },
  {
   "cell_type": "code",
   "execution_count": 10,
   "metadata": {},
   "outputs": [],
   "source": [
    "n = binary_search(event_times, 300)\n",
    "paras = optimized_params200\n",
    "samples300B = []\n",
    "for _ in range(100):\n",
    "    samples300B.append(simulate_cluster_structure(ExpKernel(*paras[:2]), ConstBase(paras[-1]), event_times[:n], 360))"
   ]
  },
  {
   "cell_type": "code",
   "execution_count": 11,
   "metadata": {},
   "outputs": [],
   "source": [
    "n = binary_search(event_times, 300)\n",
    "paras = optimized_params200\n",
    "intensity = lambda t, times: intensity_constructor(t, paras, times, ExpKernel, ConstBase, depth=30)\n",
    "samples300T = []\n",
    "for _ in range(1):\n",
    "    samples300T.append(simulate_hawkes_process(intensity, event_times[:n], 360))"
   ]
  },
  {
   "cell_type": "code",
   "execution_count": null,
   "metadata": {},
   "outputs": [],
   "source": [
    "n = binary_search(event_times, 300)\n",
    "m = binary_search(event_times, 360)\n",
    "for sample in samples300B:\n",
    "    plt.plot(sample[n:], range(n, len(sample)), color=\"k\", alpha=0.1)\n",
    "plt.plot(event_times[:m], range(m), color='r')\n",
    "plt.title('Simulation with Branching Algorithm')\n",
    "plt.xlabel(\"Days\")\n",
    "plt.ylabel(\"N(t)\")\n",
    "plt.show()"
   ]
  },
  {
   "cell_type": "code",
   "execution_count": null,
   "metadata": {},
   "outputs": [],
   "source": [
    "n = (360 - 300) // 7\n",
    "n300 = binary_search(event_times, 300)\n",
    "n360 = binary_search(event_times, 360)\n",
    "\n",
    "\n",
    "samples300 = [sample[n300:] for sample in samples300B]\n",
    "data300 = [[] for _ in range(n)]\n",
    "for sample in samples300:\n",
    "    for i in range(n):\n",
    "        data300[i].append(count_by_days(sample, n)[i])\n",
    "data_a300 = count_by_days(event_times[n300:n360], n)\n",
    "plt.boxplot(data300)\n",
    "plt.scatter(range(1, n+1, 1), data_a300, color=\"r\")\n",
    "plt.plot(range(1, n+1, 1), data_a300, color=\"r\")\n",
    "plt.xlabel(\"Prediction weeks\")\n",
    "plt.ylabel(\"Weekly frequency\")\n",
    "plt.show()"
   ]
  }
 ],
 "metadata": {
  "kernelspec": {
   "display_name": "base",
   "language": "python",
   "name": "python3"
  },
  "language_info": {
   "codemirror_mode": {
    "name": "ipython",
    "version": 3
   },
   "file_extension": ".py",
   "mimetype": "text/x-python",
   "name": "python",
   "nbconvert_exporter": "python",
   "pygments_lexer": "ipython3",
   "version": "3.8.8"
  },
  "orig_nbformat": 4
 },
 "nbformat": 4,
 "nbformat_minor": 2
}
